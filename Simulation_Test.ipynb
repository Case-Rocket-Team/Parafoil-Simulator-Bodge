{
 "cells": [
  {
   "cell_type": "code",
   "execution_count": null,
   "id": "58d2860f",
   "metadata": {},
   "outputs": [
    {
     "ename": "",
     "evalue": "",
     "output_type": "error",
     "traceback": [
      "\u001b[1;31mFailed to start the Kernel. \n",
      "\u001b[1;31mActivating extension 'ms-python.python' failed: TelemetrySender.sendEventData must be a function. \n",
      "\u001b[1;31mView Jupyter <a href='command:jupyter.viewOutput'>log</a> for further details."
     ]
    }
   ],
   "source": [
    "import numpy as np\n",
    "import matplotlib.pyplot as plt\n",
    "import math as meth"
   ]
  },
  {
   "cell_type": "code",
   "execution_count": null,
   "id": "b75919cd",
   "metadata": {},
   "outputs": [
    {
     "ename": "",
     "evalue": "",
     "output_type": "error",
     "traceback": [
      "\u001b[1;31mFailed to start the Kernel. \n",
      "\u001b[1;31mActivating extension 'ms-python.python' failed: TelemetrySender.sendEventData must be a function. \n",
      "\u001b[1;31mView Jupyter <a href='command:jupyter.viewOutput'>log</a> for further details."
     ]
    }
   ],
   "source": [
    "class State:\n",
    "    def __init__(self):\n",
    "        self.pos = np.array((0,0,0),dtype='float64')\n",
    "        self.vel = np.array((0,0,0),dtype='float64')\n",
    "        self.acc = np.array((0,0,0),dtype='float64')\n",
    "        self.time = 0\n",
    "        self.dt = 0.01\n",
    "    \n",
    "    def update(self, vel=None, acc=None):\n",
    "        self.time += self.dt\n",
    "        if acc is not None:\n",
    "            self.acc = acc\n",
    "        if vel is not None:\n",
    "            self.vel = vel\n",
    "        self.vel += self.acc * self.dt\n",
    "        self.pos += self.vel * self.dt\n",
    "        \n",
    "    \n",
    "        \n",
    "\n",
    "    def airDensityFromAltitude(self,z):  #https://en.wikipedia.org/wiki/Density_of_air REDO under troposphere\n",
    "         p = 0 #air density [kg/m^3]\n",
    "         StandAtmPres = 101325 #[Pa] at sea lvel\n",
    "         StandTemp = 288.12 #[K] at sea level\n",
    "         gravity = 9.80665 #[mn/s^2]\n",
    "         tempLapseRate = 0.0065 #[K/m]\n",
    "         gasConstant =  8.31432 #[N*m / mol*k]\n",
    "         molarMass = 0.0289644 #molar mass of dry air [kg/mol]\n",
    "         intermediate = (StandAtmPres*molarMass)/(gasConstant*StandTemp)\n",
    "         intermediate2 = (1-tempLapseRate*z/StandTemp)**(((gravity*molarMass)/(gasConstant*tempLapseRate))-1)\n",
    "         \n",
    "         return (intermediate *intermediate2)\n",
    "    \n",
    "          \n",
    "    def convertAirDensitytoImperial(self, airDensity): #converts airDensity to imperial units in slugs/ft^3 from kg/m^3\n",
    "        convert = airDensity  #storing airDensity in new variable called convert so the imperial value is not over written when given a new altitude reading\n",
    "        convert *= 0.00194032 #converting airDensity from metric to imperial unit by conversion factor 0.00194032\n",
    "        return (convert)\n",
    "        \n",
    "        \n",
    "    def rateOfDescent(self,height): #Parachutes 101 in CRT drive\n",
    "        # air density\n",
    "        airDensity = self.convertAirDensitytoImperial(self.airDensityFromAltitude(height))\n",
    "\n",
    "        WeightofLoad= 8.8 #load + parachute, (lbs) 8.8lbs (all according to Luke)\n",
    "        SurfaceArea =1.9375 #canopy surface area (ft^2) \n",
    "        dragCoefficient = 1.6 #related to SA (unitless) ~1.6\n",
    "        densityO = 0.237689 #Density at sea level\n",
    "        calculation = WeightofLoad *2/(SurfaceArea*dragCoefficient*densityO)\n",
    "        calculation = meth.sqrt(calculation)\n",
    "        intermediate = 1/(meth.sqrt(airDensity/densityO))\n",
    "        return (calculation*intermediate)/3.281\n",
    "        # returns in metric again\n",
    "    \n"
   ]
  },
  {
   "cell_type": "code",
   "execution_count": null,
   "id": "62191656",
   "metadata": {},
   "outputs": [
    {
     "ename": "",
     "evalue": "",
     "output_type": "error",
     "traceback": [
      "\u001b[1;31mFailed to start the Kernel. \n",
      "\u001b[1;31mActivating extension 'ms-python.python' failed: TelemetrySender.sendEventData must be a function. \n",
      "\u001b[1;31mView Jupyter <a href='command:jupyter.viewOutput'>log</a> for further details."
     ]
    }
   ],
   "source": [
    "rocket = State()\n",
    "rocket.pos = np.array((0,0,15000),dtype='float64')\n",
    "rocket.vel = np.array((0,0,0),dtype='float64')\n",
    "rocket.acc =np.array((0,0,0),dtype='float64')\n",
    "\n",
    "x = []\n",
    "y = []\n",
    "z = []\n",
    "\n",
    "while rocket.pos[2] > 0:\n",
    "    x.append(rocket.pos[0])\n",
    "    y.append(rocket.pos[1])\n",
    "    z.append(rocket.pos[2])\n",
    "    if(rocket.pos[2]< 10000):\n",
    "        if rocket.vel[1] != 0:\n",
    "            angle = -meth.atan(rocket.vel[0]/rocket.vel[1])\n",
    "        else: \n",
    "            angle = -meth.pi / 4\n",
    "        rocket.acc += np.array((meth.sin(angle), meth.cos(angle), 0),dtype='float64')\n",
    "        \n",
    "    \n",
    "    fallRate = -rocket.rateOfDescent(rocket.pos[2])\n",
    "    rocket.vel[2] = fallRate\n",
    "    \n",
    "    \n",
    "    rocket.update()\n",
    "    \n",
    "ax = plt.figure().add_subplot(projection='3d')\n",
    "ax.plot(x, y, z, label='parametric curve')\n",
    "\n",
    "plt.show()"
   ]
  }
 ],
 "metadata": {
  "kernelspec": {
   "display_name": "Python 3",
   "language": "python",
   "name": "python3"
  },
  "language_info": {
   "codemirror_mode": {
    "name": "ipython",
    "version": 3
   },
   "file_extension": ".py",
   "mimetype": "text/x-python",
   "name": "python",
   "nbconvert_exporter": "python",
   "pygments_lexer": "ipython3",
   "version": "3.11.0 (v3.11.0:deaf509e8f, Oct 24 2022, 14:43:23) [Clang 13.0.0 (clang-1300.0.29.30)]"
  },
  "vscode": {
   "interpreter": {
    "hash": "aee8b7b246df8f9039afb4144a1f6fd8d2ca17a180786b69acc140d282b71a49"
   }
  }
 },
 "nbformat": 4,
 "nbformat_minor": 5
}
